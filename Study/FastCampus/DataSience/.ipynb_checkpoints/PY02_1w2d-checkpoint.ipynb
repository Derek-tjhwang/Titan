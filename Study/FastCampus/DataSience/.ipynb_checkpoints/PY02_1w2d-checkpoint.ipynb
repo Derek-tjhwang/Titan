{
 "cells": [
  {
   "cell_type": "code",
   "execution_count": 1,
   "metadata": {
    "collapsed": false
   },
   "outputs": [
    {
     "name": "stdout",
     "output_type": "stream",
     "text": [
      "('abc', 4.56, (2, 3))\n",
      "('abc', 4.56, (2, 3))\n",
      "('abc', (2, 3))\n",
      "('abc', 'def')\n"
     ]
    }
   ],
   "source": [
    "tu = (23, 'abc', 4.56, (2,3), 'def')\n",
    "\n",
    "# 2번째 index에서 4번째 index까지만 복사한다.\n",
    "print tu[1:4]\n",
    "\n",
    "# 2번째 index에서 마지막 index의 바로 전 index까지만 복사한다.\n",
    "print tu[1:-1]\n",
    "\n",
    "# 2번째 ~ 4번째 index의 원소중에서 짝수번(매 2번)에 해당하는 index만 노출\n",
    "print tu[1:-1:2]\n",
    "\n",
    "# 2번째 ~ 5번째 index의 원소중에서 매 3번에 해당하는 index만 노출\n",
    "print tu[1:5:3]\n"
   ]
  },
  {
   "cell_type": "code",
   "execution_count": 4,
   "metadata": {
    "collapsed": false
   },
   "outputs": [
    {
     "name": "stdout",
     "output_type": "stream",
     "text": [
      "(1, 2, 3, 4, 5, 6)\n",
      "[1, 2, 3, 4, 5, 6]\n",
      "Hello World\n"
     ]
    }
   ],
   "source": [
    "a = (1,2,3)+(4,5,6)\n",
    "print a\n",
    "b = [1,2,3]+[4,5,6]\n",
    "print b\n",
    "c = \"Hello\" + \" \" + \"World\"\n",
    "print c"
   ]
  },
  {
   "cell_type": "code",
   "execution_count": 6,
   "metadata": {
    "collapsed": false
   },
   "outputs": [
    {
     "data": {
      "text/plain": [
       "[1, 11, 3, 4, 5, 'a']"
      ]
     },
     "execution_count": 6,
     "metadata": {},
     "output_type": "execute_result"
    }
   ],
   "source": [
    "li = [1, 11, 3, 4, 5]\n",
    "\n",
    "# 1. append\n",
    "li.append('a')\n",
    "li"
   ]
  },
  {
   "cell_type": "code",
   "execution_count": 7,
   "metadata": {
    "collapsed": false
   },
   "outputs": [
    {
     "data": {
      "text/plain": [
       "1"
      ]
     },
     "execution_count": 7,
     "metadata": {},
     "output_type": "execute_result"
    }
   ],
   "source": [
    "li.count('a')"
   ]
  },
  {
   "cell_type": "code",
   "execution_count": 8,
   "metadata": {
    "collapsed": false
   },
   "outputs": [
    {
     "name": "stdout",
     "output_type": "stream",
     "text": [
      "{'pswd': 1234, 'user': 'bozo'}\n",
      "{'pswd': 1234, 'user': 'clown'}\n"
     ]
    }
   ],
   "source": [
    "# 2. Updating dictionaries\n",
    "d = {'user':'bozo', 'pswd':1234}\n",
    "print d\n",
    "d['user'] = 'clown'\n",
    "print d"
   ]
  },
  {
   "cell_type": "code",
   "execution_count": 9,
   "metadata": {
    "collapsed": false
   },
   "outputs": [
    {
     "data": {
      "text/plain": [
       "{'id': 45, 'pswd': 1234, 'user': 'clown'}"
      ]
     },
     "execution_count": 9,
     "metadata": {},
     "output_type": "execute_result"
    }
   ],
   "source": [
    "d['id'] = 45\n",
    "d"
   ]
  },
  {
   "cell_type": "code",
   "execution_count": 11,
   "metadata": {
    "collapsed": false
   },
   "outputs": [
    {
     "data": {
      "text/plain": [
       "{'id': 45, 'pswd': 1234}"
      ]
     },
     "execution_count": 11,
     "metadata": {},
     "output_type": "execute_result"
    }
   ],
   "source": [
    "del d['user']\n",
    "d"
   ]
  },
  {
   "cell_type": "code",
   "execution_count": null,
   "metadata": {
    "collapsed": true
   },
   "outputs": [],
   "source": []
  },
  {
   "cell_type": "code",
   "execution_count": null,
   "metadata": {
    "collapsed": true
   },
   "outputs": [],
   "source": []
  }
 ],
 "metadata": {
  "kernelspec": {
   "display_name": "Python 2",
   "language": "python",
   "name": "python2"
  },
  "language_info": {
   "codemirror_mode": {
    "name": "ipython",
    "version": 2
   },
   "file_extension": ".py",
   "mimetype": "text/x-python",
   "name": "python",
   "nbconvert_exporter": "python",
   "pygments_lexer": "ipython2",
   "version": "2.7.13"
  }
 },
 "nbformat": 4,
 "nbformat_minor": 2
}
