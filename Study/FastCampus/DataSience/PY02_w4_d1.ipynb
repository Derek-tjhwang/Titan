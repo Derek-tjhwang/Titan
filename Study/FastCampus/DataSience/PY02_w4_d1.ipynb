{
 "cells": [
  {
   "cell_type": "code",
   "execution_count": 2,
   "metadata": {
    "collapsed": false
   },
   "outputs": [
    {
     "data": {
      "text/plain": [
       "Counter({0: 3, 1: 3, 2: 2, 3: 1, 5: 1})"
      ]
     },
     "execution_count": 2,
     "metadata": {},
     "output_type": "execute_result"
    }
   ],
   "source": [
    "from collections import Counter\n",
    "counts = Counter([0, 1, 2, 3, 2, 1, 1, 0, 0, 5])\n",
    "counts"
   ]
  },
  {
   "cell_type": "code",
   "execution_count": 4,
   "metadata": {
    "collapsed": false
   },
   "outputs": [
    {
     "name": "stdout",
     "output_type": "stream",
     "text": [
      "key : 0 value : 3\n",
      "key : 1 value : 3\n",
      "key : 2 value : 2\n",
      "key : 3 value : 1\n",
      "key : 5 value : 1\n"
     ]
    }
   ],
   "source": [
    "for key, value in counts.most_common(10):\n",
    "    print \"key :\", key, \"value :\", value"
   ]
  },
  {
   "cell_type": "code",
   "execution_count": 6,
   "metadata": {
    "collapsed": false
   },
   "outputs": [
    {
     "data": {
      "text/plain": [
       "[0.2600455301341933,\n",
       " 0.49204580016914534,\n",
       " 0.9640334811018387,\n",
       " 0.09463783085047162]"
      ]
     },
     "execution_count": 6,
     "metadata": {},
     "output_type": "execute_result"
    }
   ],
   "source": [
    "import random\n",
    "\n",
    "four_uniform_randoms = [random.random() for _ in range(4)]\n",
    "four_uniform_randoms"
   ]
  },
  {
   "cell_type": "code",
   "execution_count": 7,
   "metadata": {
    "collapsed": false
   },
   "outputs": [
    {
     "name": "stdout",
     "output_type": "stream",
     "text": [
      "0.57140259469\n",
      "0.57140259469\n"
     ]
    }
   ],
   "source": [
    "random.seed(10)\n",
    "print random.random()\n",
    "random.seed(10)\n",
    "print random.random()"
   ]
  },
  {
   "cell_type": "code",
   "execution_count": 9,
   "metadata": {
    "collapsed": false
   },
   "outputs": [
    {
     "data": {
      "text/plain": [
       "5"
      ]
     },
     "execution_count": 9,
     "metadata": {},
     "output_type": "execute_result"
    }
   ],
   "source": [
    "random.randrange(10)"
   ]
  },
  {
   "cell_type": "code",
   "execution_count": 10,
   "metadata": {
    "collapsed": false
   },
   "outputs": [
    {
     "data": {
      "text/plain": [
       "3"
      ]
     },
     "execution_count": 10,
     "metadata": {},
     "output_type": "execute_result"
    }
   ],
   "source": [
    "random.randrange(3, 6)"
   ]
  },
  {
   "cell_type": "code",
   "execution_count": 13,
   "metadata": {
    "collapsed": false
   },
   "outputs": [
    {
     "data": {
      "text/plain": [
       "[2, 9, 5, 4, 0, 3, 8, 7, 6, 1]"
      ]
     },
     "execution_count": 13,
     "metadata": {},
     "output_type": "execute_result"
    }
   ],
   "source": [
    "up_to_ten = range(10)\n",
    "random.shuffle(up_to_ten)\n",
    "up_to_ten"
   ]
  },
  {
   "cell_type": "code",
   "execution_count": 15,
   "metadata": {
    "collapsed": false
   },
   "outputs": [
    {
     "data": {
      "text/plain": [
       "'Bob'"
      ]
     },
     "execution_count": 15,
     "metadata": {},
     "output_type": "execute_result"
    }
   ],
   "source": [
    "my_best_friend = random.choice([\"Alice\", \"Bob\", \"Charlie\"])\n",
    "my_best_friend"
   ]
  },
  {
   "cell_type": "code",
   "execution_count": 17,
   "metadata": {
    "collapsed": false
   },
   "outputs": [
    {
     "data": {
      "text/plain": [
       "[53, 18, 31, 24, 3, 32]"
      ]
     },
     "execution_count": 17,
     "metadata": {},
     "output_type": "execute_result"
    }
   ],
   "source": [
    "lottery_number = range(60)\n",
    "random.sample(lottery_number, 6)"
   ]
  },
  {
   "cell_type": "code",
   "execution_count": 20,
   "metadata": {
    "collapsed": false
   },
   "outputs": [
    {
     "data": {
      "text/plain": [
       "[1, 5, 3, 6, 1, 7, 0, 1, 8, 9]"
      ]
     },
     "execution_count": 20,
     "metadata": {},
     "output_type": "execute_result"
    }
   ],
   "source": [
    "[random.choice(range(10)) for _ in range(10)]"
   ]
  },
  {
   "cell_type": "code",
   "execution_count": 24,
   "metadata": {
    "collapsed": false
   },
   "outputs": [
    {
     "name": "stdout",
     "output_type": "stream",
     "text": [
      "3 13\n",
      "9 13\n",
      "1 12\n",
      "7 11\n",
      "8 11\n",
      "0 10\n",
      "4 9\n",
      "5 9\n",
      "6 8\n",
      "2 4\n"
     ]
    }
   ],
   "source": [
    "cnts = Counter([random.choice(range(10)) for _ in range(100)])\n",
    "for key, value in cnts.most_common(10):\n",
    "    print key, value"
   ]
  },
  {
   "cell_type": "code",
   "execution_count": 25,
   "metadata": {
    "collapsed": false
   },
   "outputs": [
    {
     "data": {
      "text/plain": [
       "'Data Science extension school lecture'"
      ]
     },
     "execution_count": 25,
     "metadata": {},
     "output_type": "execute_result"
    }
   ],
   "source": [
    "class Lecture:\n",
    "    title = \"Data Science extension school lecture.\"\n",
    "    \n",
    "lecture_1 = Lecture()\n",
    "lecture_1.title"
   ]
  },
  {
   "cell_type": "code",
   "execution_count": 26,
   "metadata": {
    "collapsed": false
   },
   "outputs": [
    {
     "name": "stdout",
     "output_type": "stream",
     "text": [
      "수강생 이름은 David 입니다.\n"
     ]
    }
   ],
   "source": [
    "class Lecture:\n",
    "    title = \"Data science extension school lecture.\"\n",
    "    \n",
    "    def get_student_name(self, student):\n",
    "        print \"수강생 이름은 %s 입니다.\" % student\n",
    "\n",
    "lecture_2 = Lecture()\n",
    "lecture_2.get_student_name(\"David\")"
   ]
  },
  {
   "cell_type": "code",
   "execution_count": 28,
   "metadata": {
    "collapsed": false
   },
   "outputs": [
    {
     "name": "stdout",
     "output_type": "stream",
     "text": [
      "수강생 이름은 David 입니다.\n"
     ]
    }
   ],
   "source": [
    "Lecture.get_student_name(lecture_2, \"David\")"
   ]
  },
  {
   "cell_type": "code",
   "execution_count": 32,
   "metadata": {
    "collapsed": false
   },
   "outputs": [
    {
     "name": "stdout",
     "output_type": "stream",
     "text": [
      " 수업을 듣는 수강생 이름은 David 입니다.\n"
     ]
    }
   ],
   "source": [
    "class Lecture:\n",
    "    titile = \"Data  science extension school lecture.\"\n",
    "    \n",
    "    def get_student_name(self, student):\n",
    "        print \"%s 수업을 듣는 수강생 이름은 %s 입니다.\" % (self.name, student)\n",
    "    def set_name(self, name):\n",
    "        self.name = name\n",
    "    def __init__(self):\n",
    "        self.name = \"\"\n",
    "        \n",
    "lecture_3 = Lecture()\n",
    "lecture_3.set_name(\"Math\")\n",
    "lecture_3.get_student_name(\"David\")"
   ]
  },
  {
   "cell_type": "code",
   "execution_count": 35,
   "metadata": {
    "collapsed": false
   },
   "outputs": [
    {
     "name": "stdout",
     "output_type": "stream",
     "text": [
      "Math 수업을 듣는 수강생 이름은 David 입니다.\n"
     ]
    }
   ],
   "source": [
    "class Lecture:\n",
    "    title = \"Data science extension school lecture.\"\n",
    "    \n",
    "    def __init__(self, name):\n",
    "        self.name = name\n",
    "        \n",
    "    def get_student_name(self, student):\n",
    "        print \"%s 수업을 듣는 수강생 이름은 %s 입니다.\" % (self.name, student)\n",
    "        \n",
    "lecture5 = Lecture(\"Math\")\n",
    "lecture5.get_student_name(\"David\")"
   ]
  },
  {
   "cell_type": "code",
   "execution_count": 36,
   "metadata": {
    "collapsed": false
   },
   "outputs": [
    {
     "name": "stdout",
     "output_type": "stream",
     "text": [
      "블록을 수행하라.\n"
     ]
    }
   ],
   "source": [
    "try:\n",
    "    4/0\n",
    "except:\n",
    "    print \"블록을 수행하라.\""
   ]
  },
  {
   "cell_type": "code",
   "execution_count": 38,
   "metadata": {
    "collapsed": false
   },
   "outputs": [
    {
     "name": "stdout",
     "output_type": "stream",
     "text": [
      "블록을 수행하라.\n"
     ]
    }
   ],
   "source": [
    "try:\n",
    "    4/0\n",
    "except ZeroDivisionError:\n",
    "    print \"블록을 수행하라.\""
   ]
  },
  {
   "cell_type": "code",
   "execution_count": 39,
   "metadata": {
    "collapsed": false
   },
   "outputs": [
    {
     "ename": "ZeroDivisionError",
     "evalue": "integer division or modulo by zero",
     "output_type": "error",
     "traceback": [
      "\u001b[0;31m----------------------------------------------------------------\u001b[0m",
      "\u001b[0;31mZeroDivisionError\u001b[0m              Traceback (most recent call last)",
      "\u001b[0;32m<ipython-input-39-eb376ef896fb>\u001b[0m in \u001b[0;36m<module>\u001b[0;34m()\u001b[0m\n\u001b[1;32m      1\u001b[0m \u001b[0;32mtry\u001b[0m\u001b[0;34m:\u001b[0m\u001b[0;34m\u001b[0m\u001b[0m\n\u001b[0;32m----> 2\u001b[0;31m     \u001b[0;36m4\u001b[0m\u001b[0;34m/\u001b[0m\u001b[0;36m0\u001b[0m\u001b[0;34m\u001b[0m\u001b[0m\n\u001b[0m\u001b[1;32m      3\u001b[0m \u001b[0;32mexcept\u001b[0m \u001b[0mIOError\u001b[0m\u001b[0;34m:\u001b[0m\u001b[0;34m\u001b[0m\u001b[0m\n\u001b[1;32m      4\u001b[0m     \u001b[0;32mprint\u001b[0m \u001b[0;34m\"블록을 수행하라.\"\u001b[0m\u001b[0;34m\u001b[0m\u001b[0m\n",
      "\u001b[0;31mZeroDivisionError\u001b[0m: integer division or modulo by zero"
     ]
    }
   ],
   "source": [
    "try:\n",
    "    4/0\n",
    "except IOError:\n",
    "    print \"블록을 수행하라.\""
   ]
  },
  {
   "cell_type": "code",
   "execution_count": 40,
   "metadata": {
    "collapsed": false
   },
   "outputs": [
    {
     "name": "stdout",
     "output_type": "stream",
     "text": [
      "integer division or modulo by zero\n"
     ]
    }
   ],
   "source": [
    "try:\n",
    "    4/0\n",
    "except ZeroDivisionError as e:\n",
    "    print e"
   ]
  },
  {
   "cell_type": "code",
   "execution_count": 41,
   "metadata": {
    "collapsed": false
   },
   "outputs": [
    {
     "name": "stdout",
     "output_type": "stream",
     "text": [
      "3\n",
      "3\n",
      "1.3\n"
     ]
    }
   ],
   "source": [
    "print abs(3)\n",
    "print abs(-3)\n",
    "print abs(-1.3)"
   ]
  },
  {
   "cell_type": "code",
   "execution_count": 43,
   "metadata": {
    "collapsed": false
   },
   "outputs": [
    {
     "name": "stdout",
     "output_type": "stream",
     "text": [
      "True\n",
      "False\n"
     ]
    }
   ],
   "source": [
    "print all([1, 2, 3])\n",
    "print all([1, 2, 3, 0])"
   ]
  },
  {
   "cell_type": "code",
   "execution_count": 44,
   "metadata": {
    "collapsed": false
   },
   "outputs": [
    {
     "name": "stdout",
     "output_type": "stream",
     "text": [
      "True\n",
      "True\n"
     ]
    }
   ],
   "source": [
    "print any([1, 2, 3, 0])\n",
    "print any([1, \"\"])"
   ]
  },
  {
   "cell_type": "code",
   "execution_count": 46,
   "metadata": {
    "collapsed": false
   },
   "outputs": [
    {
     "name": "stdout",
     "output_type": "stream",
     "text": [
      "0 body\n",
      "1 foo\n",
      "2 bar\n"
     ]
    }
   ],
   "source": [
    "for i, name in enumerate([\"body\", \"foo\", \"bar\"]):\n",
    "    print i, name"
   ]
  },
  {
   "cell_type": "code",
   "execution_count": null,
   "metadata": {
    "collapsed": true
   },
   "outputs": [],
   "source": []
  }
 ],
 "metadata": {
  "kernelspec": {
   "display_name": "Python 2",
   "language": "python",
   "name": "python2"
  },
  "language_info": {
   "codemirror_mode": {
    "name": "ipython",
    "version": 2
   },
   "file_extension": ".py",
   "mimetype": "text/x-python",
   "name": "python",
   "nbconvert_exporter": "python",
   "pygments_lexer": "ipython2",
   "version": "2.7.13"
  }
 },
 "nbformat": 4,
 "nbformat_minor": 2
}
