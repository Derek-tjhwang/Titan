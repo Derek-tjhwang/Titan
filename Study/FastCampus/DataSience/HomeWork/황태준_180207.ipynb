{
 "cells": [
  {
   "cell_type": "markdown",
   "metadata": {},
   "source": [
    "## Problem 1"
   ]
  },
  {
   "cell_type": "code",
   "execution_count": 50,
   "metadata": {
    "collapsed": false
   },
   "outputs": [
    {
     "name": "stdout",
     "output_type": "stream",
     "text": [
      "0.609070159744\n"
     ]
    }
   ],
   "source": [
    "import random\n",
    "import numpy as np\n",
    "\n",
    "# n = 10의 numpy 벡터 생성\n",
    "def create_li(x):\n",
    "    random.seed(x)\n",
    "    return np.array([random.randrange(1,11) for _ in range(10)])\n",
    "\n",
    "# 벡터의 길이 반환\n",
    "def get_vec_len(li_x):\n",
    "    return np.sqrt(sum(np.square(li_x)))\n",
    "\n",
    "li_a = create_li(43)\n",
    "li_b = create_li(34)\n",
    "\n",
    "vl_a = get_vec_len(li_a)\n",
    "vl_b = get_vec_len(li_b)\n",
    "\n",
    "nv_a = li_a/vl_a\n",
    "nv_b = li_b/vl_b\n",
    "\n",
    "print np.sqrt(sum(np.square(nv_a-nv_b)))\n"
   ]
  },
  {
   "cell_type": "markdown",
   "metadata": {},
   "source": [
    "## Problem 2"
   ]
  },
  {
   "cell_type": "code",
   "execution_count": 25,
   "metadata": {
    "collapsed": false
   },
   "outputs": [
    {
     "name": "stdout",
     "output_type": "stream",
     "text": [
      "-25164150\n"
     ]
    }
   ],
   "source": [
    "li = np.array(range(1,101))\n",
    "print sum(np.square(li)) - sum(li)**2\n",
    "del(li)"
   ]
  },
  {
   "cell_type": "markdown",
   "metadata": {},
   "source": [
    "## Problem 3"
   ]
  },
  {
   "cell_type": "code",
   "execution_count": 37,
   "metadata": {
    "collapsed": false
   },
   "outputs": [
    {
     "name": "stdout",
     "output_type": "stream",
     "text": [
      "15\n",
      "3.0\n",
      "40\n",
      "8.0\n"
     ]
    }
   ],
   "source": [
    "class Calculator:\n",
    "    def __init__(self, li):\n",
    "        self.li = li\n",
    "    \n",
    "    def my_sum(self):\n",
    "        print sum(self.li)\n",
    "    def avg(self):\n",
    "        print float(sum(self.li) / len(self.li))\n",
    "\n",
    "cal1 = Calculator([1,2,3,4,5])\n",
    "cal1.my_sum()\n",
    "cal1.avg()\n",
    "cal2 = Calculator([6,7,8,9,10])\n",
    "cal2.my_sum()\n",
    "cal2.avg()"
   ]
  },
  {
   "cell_type": "markdown",
   "metadata": {},
   "source": [
    "## Problem 4"
   ]
  },
  {
   "cell_type": "code",
   "execution_count": 29,
   "metadata": {
    "collapsed": false
   },
   "outputs": [
    {
     "name": "stdout",
     "output_type": "stream",
     "text": [
      "234168\n"
     ]
    }
   ],
   "source": [
    "su =0\n",
    "for i in range(1001):\n",
    "    if i % 3 == 0:\n",
    "        su += i\n",
    "    elif i % 5 == 0:\n",
    "        su += i\n",
    "        \n",
    "print su"
   ]
  },
  {
   "cell_type": "markdown",
   "metadata": {},
   "source": [
    "## Problem 5"
   ]
  },
  {
   "cell_type": "code",
   "execution_count": 5,
   "metadata": {
    "collapsed": false,
    "scrolled": false
   },
   "outputs": [
    {
     "name": "stdout",
     "output_type": "stream",
     "text": [
      "[-30.0, 2.6400000000000006, 0.96]\n",
      "[1050.0, 1.90401024, 0.92461056]\n",
      "[-46303950.0, 1.6279093347506213, 0.8929924039197126]\n",
      "[3.9711300757499093e+21, 1.4553451627919123, 0.8645082525319249]\n",
      "[-2.504968849760857e+63, 1.3320466007977398, 0.838663794966141]\n",
      "[6.287340490681568e+188, 1.2375060241001694, 0.8150685942414523]\n"
     ]
    },
    {
     "ename": "OverflowError",
     "evalue": "(34, 'Result too large')",
     "output_type": "error",
     "traceback": [
      "\u001b[0;31m---------------------------------------------------------------------------\u001b[0m",
      "\u001b[0;31mOverflowError\u001b[0m                             Traceback (most recent call last)",
      "\u001b[0;32m<ipython-input-5-d8a71535d78a>\u001b[0m in \u001b[0;36m<module>\u001b[0;34m()\u001b[0m\n\u001b[1;32m     19\u001b[0m     \u001b[0mnext_v\u001b[0m \u001b[0;34m=\u001b[0m \u001b[0mstep\u001b[0m\u001b[0;34m(\u001b[0m\u001b[0mv\u001b[0m\u001b[0;34m,\u001b[0m \u001b[0mgradient\u001b[0m\u001b[0;34m,\u001b[0m \u001b[0malpha\u001b[0m\u001b[0;34m)\u001b[0m\u001b[0;34m\u001b[0m\u001b[0m\n\u001b[1;32m     20\u001b[0m     \u001b[0;32mprint\u001b[0m \u001b[0mnext_v\u001b[0m\u001b[0;34m\u001b[0m\u001b[0m\n\u001b[0;32m---> 21\u001b[0;31m     \u001b[0;32mif\u001b[0m \u001b[0mdistance\u001b[0m\u001b[0;34m(\u001b[0m\u001b[0mnext_v\u001b[0m\u001b[0;34m,\u001b[0m \u001b[0mv\u001b[0m\u001b[0;34m)\u001b[0m \u001b[0;34m<\u001b[0m \u001b[0;36m0.00000001\u001b[0m\u001b[0;34m:\u001b[0m\u001b[0;34m\u001b[0m\u001b[0m\n\u001b[0m\u001b[1;32m     22\u001b[0m         \u001b[0;32mbreak\u001b[0m\u001b[0;34m\u001b[0m\u001b[0m\n\u001b[1;32m     23\u001b[0m     \u001b[0mv\u001b[0m \u001b[0;34m=\u001b[0m \u001b[0mnext_v\u001b[0m\u001b[0;34m\u001b[0m\u001b[0m\n",
      "\u001b[0;32m<ipython-input-5-d8a71535d78a>\u001b[0m in \u001b[0;36mdistance\u001b[0;34m(v, w)\u001b[0m\n\u001b[1;32m     10\u001b[0m \u001b[0;34m\u001b[0m\u001b[0m\n\u001b[1;32m     11\u001b[0m \u001b[0;32mdef\u001b[0m \u001b[0mdistance\u001b[0m\u001b[0;34m(\u001b[0m\u001b[0mv\u001b[0m\u001b[0;34m,\u001b[0m \u001b[0mw\u001b[0m\u001b[0;34m)\u001b[0m\u001b[0;34m:\u001b[0m\u001b[0;34m\u001b[0m\u001b[0m\n\u001b[0;32m---> 12\u001b[0;31m     \u001b[0;32mreturn\u001b[0m \u001b[0mnp\u001b[0m\u001b[0;34m.\u001b[0m\u001b[0msqrt\u001b[0m\u001b[0;34m(\u001b[0m\u001b[0msum\u001b[0m\u001b[0;34m(\u001b[0m\u001b[0;34m[\u001b[0m\u001b[0;34m(\u001b[0m\u001b[0mv_i\u001b[0m \u001b[0;34m-\u001b[0m \u001b[0mw_i\u001b[0m\u001b[0;34m)\u001b[0m\u001b[0;34m**\u001b[0m\u001b[0;36m2\u001b[0m \u001b[0;32mfor\u001b[0m \u001b[0mv_i\u001b[0m\u001b[0;34m,\u001b[0m \u001b[0mw_i\u001b[0m \u001b[0;32min\u001b[0m \u001b[0mzip\u001b[0m\u001b[0;34m(\u001b[0m\u001b[0mv\u001b[0m\u001b[0;34m,\u001b[0m \u001b[0mw\u001b[0m\u001b[0;34m)\u001b[0m\u001b[0;34m]\u001b[0m\u001b[0;34m)\u001b[0m\u001b[0;34m)\u001b[0m\u001b[0;34m\u001b[0m\u001b[0m\n\u001b[0m\u001b[1;32m     13\u001b[0m \u001b[0;34m\u001b[0m\u001b[0m\n\u001b[1;32m     14\u001b[0m \u001b[0mv\u001b[0m \u001b[0;34m=\u001b[0m \u001b[0;34m[\u001b[0m\u001b[0mrandom\u001b[0m\u001b[0;34m.\u001b[0m\u001b[0mrandint\u001b[0m\u001b[0;34m(\u001b[0m\u001b[0;34m-\u001b[0m\u001b[0;36m10\u001b[0m\u001b[0;34m,\u001b[0m \u001b[0;36m10\u001b[0m\u001b[0;34m)\u001b[0m \u001b[0;32mfor\u001b[0m \u001b[0m_\u001b[0m \u001b[0;32min\u001b[0m \u001b[0mrange\u001b[0m\u001b[0;34m(\u001b[0m\u001b[0;36m3\u001b[0m\u001b[0;34m)\u001b[0m\u001b[0;34m]\u001b[0m\u001b[0;34m\u001b[0m\u001b[0m\n",
      "\u001b[0;31mOverflowError\u001b[0m: (34, 'Result too large')"
     ]
    }
   ],
   "source": [
    "import random\n",
    "import numpy as np\n",
    "\n",
    "def get_gradient(v):\n",
    "    return [4*(v_i**3) for v_i in v]\n",
    "\n",
    "def step(v, gradient, step_size):\n",
    "    return [v_i + step_size * direction_i \n",
    "            for v_i, direction_i in zip(v, gradient)]\n",
    "\n",
    "def distance(v, w):\n",
    "    return np.sqrt(sum([(v_i - w_i)**2 for v_i, w_i in zip(v, w)]))\n",
    "\n",
    "v = [random.randint(-10, 10) for _ in range(3)]\n",
    "alpha = -0.01\n",
    "\n",
    "while True:\n",
    "    gradient = get_gradient(v)\n",
    "    next_v = step(v, gradient, alpha)\n",
    "    print next_v\n",
    "    if distance(next_v, v) < 0.0000001:\n",
    "        break\n",
    "    v = next_v"
   ]
  },
  {
   "cell_type": "markdown",
   "metadata": {},
   "source": [
    "## Problem 6"
   ]
  },
  {
   "cell_type": "code",
   "execution_count": 43,
   "metadata": {
    "collapsed": false
   },
   "outputs": [
    {
     "name": "stdout",
     "output_type": "stream",
     "text": [
      "aaaaaaccccccccfffffjjjjn\n",
      "a6c8f5j4n1\n"
     ]
    }
   ],
   "source": [
    "i_str = raw_input()\n",
    "\n",
    "chr_dic = {}\n",
    "result = \"\"\n",
    "\n",
    "if i_str:\n",
    "    for i in i_str:\n",
    "        if i not in chr_dic.keys():\n",
    "            result = result + str(*chr_dic.keys()) + str(*chr_dic.values())\n",
    "            chr_dic.clear()\n",
    "            chr_dic[i] = 1\n",
    "        else:\n",
    "            chr_dic[i] += 1\n",
    "\n",
    "if chr_dic:\n",
    "    result = result + str(*chr_dic.keys()) + str(*chr_dic.values())\n",
    "    chr_dic.clear()\n",
    "    \n",
    "print result"
   ]
  }
 ],
 "metadata": {
  "kernelspec": {
   "display_name": "Python 2",
   "language": "python",
   "name": "python2"
  },
  "language_info": {
   "codemirror_mode": {
    "name": "ipython",
    "version": 2
   },
   "file_extension": ".py",
   "mimetype": "text/x-python",
   "name": "python",
   "nbconvert_exporter": "python",
   "pygments_lexer": "ipython2",
   "version": "2.7.13"
  }
 },
 "nbformat": 4,
 "nbformat_minor": 2
}
