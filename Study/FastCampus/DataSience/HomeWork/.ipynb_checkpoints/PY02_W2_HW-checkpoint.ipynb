{
 "cells": [
  {
   "cell_type": "markdown",
   "metadata": {},
   "source": [
    "# 황태준 W2 과제"
   ]
  },
  {
   "cell_type": "markdown",
   "metadata": {},
   "source": [
    "## Problem 1"
   ]
  },
  {
   "cell_type": "code",
   "execution_count": 46,
   "metadata": {
    "collapsed": false
   },
   "outputs": [
    {
     "name": "stdout",
     "output_type": "stream",
     "text": [
      "79\n"
     ]
    }
   ],
   "source": [
    "# 총 10명의 학급원의 평균을 구하시오. for문 사용\n",
    "\n",
    "a = [70,60,55,75,95,90,80,80,85,100]\n",
    "sum = 0\n",
    "\n",
    "for i in a:\n",
    "    sum += i\n",
    "\n",
    "print sum/len(a)"
   ]
  },
  {
   "cell_type": "markdown",
   "metadata": {},
   "source": [
    "## Problem 2"
   ]
  },
  {
   "cell_type": "code",
   "execution_count": 12,
   "metadata": {
    "collapsed": false
   },
   "outputs": [
    {
     "name": "stdout",
     "output_type": "stream",
     "text": [
      "*\n",
      "**\n",
      "***\n",
      "****\n",
      "*****\n"
     ]
    }
   ],
   "source": [
    "# While 문을 이용하여 *을 5줄 그리시오.\n",
    "\n",
    "a = 1\n",
    "while True:\n",
    "    print \"*\"*a\n",
    "    if a == 5: break\n",
    "    a += 1"
   ]
  },
  {
   "cell_type": "markdown",
   "metadata": {},
   "source": [
    "## Probelm 3"
   ]
  },
  {
   "cell_type": "code",
   "execution_count": 39,
   "metadata": {
    "collapsed": false
   },
   "outputs": [
    {
     "name": "stdout",
     "output_type": "stream",
     "text": [
      "6\n",
      "21\n",
      "8\n"
     ]
    }
   ],
   "source": [
    "# *args 문제\n",
    "\n",
    "def my_args(*args):\n",
    "    l_args = len(args)\n",
    "    if l_args <= 3:\n",
    "        a = 1\n",
    "        for i in args:\n",
    "            a *= i\n",
    "        return a\n",
    "    elif 4 <= l_args <= 6:\n",
    "        a = 0\n",
    "        for i in args:\n",
    "            a += i\n",
    "        return a\n",
    "    elif l_args > 7:\n",
    "        return args[6]\n",
    "    else:\n",
    "        print \"오류\"\n",
    "        return 0\n",
    "\n",
    "print my_args(1,2,3)\n",
    "print my_args(2,3,4,5,7)\n",
    "print my_args(3,4,5,7,1,9,8,2,10)"
   ]
  },
  {
   "cell_type": "markdown",
   "metadata": {},
   "source": [
    "## Problem 4"
   ]
  },
  {
   "cell_type": "code",
   "execution_count": 45,
   "metadata": {
    "collapsed": false
   },
   "outputs": [
    {
     "name": "stdout",
     "output_type": "stream",
     "text": [
      "2X1 = 2\n",
      "2X2 = 4\n",
      "2X3 = 6\n",
      "2X4 = 8\n",
      "2X5 = 10\n",
      "2X6 = 12\n",
      "2X7 = 14\n",
      "2X8 = 16\n",
      "2X9 = 18\n",
      " \n",
      "3X1 = 3\n",
      "3X2 = 6\n",
      "3X3 = 9\n",
      "3X4 = 12\n",
      "3X5 = 15\n",
      "3X6 = 18\n",
      "3X7 = 21\n",
      "3X8 = 24\n",
      "3X9 = 27\n",
      " \n",
      "4X1 = 4\n",
      "4X2 = 8\n",
      "4X3 = 12\n",
      "4X4 = 16\n",
      "4X5 = 20\n",
      "4X6 = 24\n",
      "4X7 = 28\n",
      "4X8 = 32\n",
      "4X9 = 36\n",
      " \n",
      "5X1 = 5\n",
      "5X2 = 10\n",
      "5X3 = 15\n",
      "5X4 = 20\n",
      "5X5 = 25\n",
      "5X6 = 30\n",
      "5X7 = 35\n",
      "5X8 = 40\n",
      "5X9 = 45\n",
      " \n",
      "6X1 = 6\n",
      "6X2 = 12\n",
      "6X3 = 18\n",
      "6X4 = 24\n",
      "6X5 = 30\n",
      "6X6 = 36\n",
      "6X7 = 42\n",
      "6X8 = 48\n",
      "6X9 = 54\n",
      " \n",
      "7X1 = 7\n",
      "7X2 = 14\n",
      "7X3 = 21\n",
      "7X4 = 28\n",
      "7X5 = 35\n",
      "7X6 = 42\n",
      "7X7 = 49\n",
      "7X8 = 56\n",
      "7X9 = 63\n",
      " \n",
      "8X1 = 8\n",
      "8X2 = 16\n",
      "8X3 = 24\n",
      "8X4 = 32\n",
      "8X5 = 40\n",
      "8X6 = 48\n",
      "8X7 = 56\n",
      "8X8 = 64\n",
      "8X9 = 72\n",
      " \n",
      "9X1 = 9\n",
      "9X2 = 18\n",
      "9X3 = 27\n",
      "9X4 = 36\n",
      "9X5 = 45\n",
      "9X6 = 54\n",
      "9X7 = 63\n",
      "9X8 = 72\n",
      "9X9 = 81\n",
      " \n"
     ]
    }
   ],
   "source": [
    "# 2중 for문 구구단 \n",
    "\n",
    "for i in range(2, 10):\n",
    "    for j in range(1, 10):\n",
    "        print str(i) + \"X\" + str(j) + \" = \" + str(i*j)\n",
    "    print \" \"\n"
   ]
  }
 ],
 "metadata": {
  "kernelspec": {
   "display_name": "Python 2",
   "language": "python",
   "name": "python2"
  },
  "language_info": {
   "codemirror_mode": {
    "name": "ipython",
    "version": 2
   },
   "file_extension": ".py",
   "mimetype": "text/x-python",
   "name": "python",
   "nbconvert_exporter": "python",
   "pygments_lexer": "ipython2",
   "version": "2.7.13"
  }
 },
 "nbformat": 4,
 "nbformat_minor": 2
}
