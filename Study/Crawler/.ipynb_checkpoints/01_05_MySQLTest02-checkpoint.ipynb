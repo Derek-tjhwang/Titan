{
 "cells": [
  {
   "cell_type": "code",
   "execution_count": 7,
   "metadata": {
    "collapsed": false
   },
   "outputs": [
    {
     "ename": "NameError",
     "evalue": "name 'fronPageId' is not defined",
     "output_type": "error",
     "traceback": [
      "\u001b[0;31m---------------------------------------------------------------------------\u001b[0m",
      "\u001b[0;31mNameError\u001b[0m                                 Traceback (most recent call last)",
      "\u001b[0;32m<ipython-input-7-11eea556d7d9>\u001b[0m in \u001b[0;36m<module>\u001b[0;34m()\u001b[0m\n\u001b[1;32m     57\u001b[0m             \u001b[0mprint\u001b[0m\u001b[0;34m(\u001b[0m\u001b[0;34m\"Skipping: \"\u001b[0m\u001b[0;34m+\u001b[0m\u001b[0mstr\u001b[0m\u001b[0;34m(\u001b[0m\u001b[0mlink\u001b[0m\u001b[0;34m.\u001b[0m\u001b[0mattrs\u001b[0m\u001b[0;34m[\u001b[0m\u001b[0;34m'href'\u001b[0m\u001b[0;34m]\u001b[0m\u001b[0;34m)\u001b[0m\u001b[0;34m+\u001b[0m\u001b[0;34m\" found on \"\u001b[0m\u001b[0;34m+\u001b[0m\u001b[0mpageUrl\u001b[0m\u001b[0;34m)\u001b[0m\u001b[0;34m\u001b[0m\u001b[0m\n\u001b[1;32m     58\u001b[0m \u001b[0;34m\u001b[0m\u001b[0m\n\u001b[0;32m---> 59\u001b[0;31m \u001b[0mgetLinks\u001b[0m\u001b[0;34m(\u001b[0m\u001b[0;34m\"/wiki/Kevin_Bacon\"\u001b[0m\u001b[0;34m,\u001b[0m \u001b[0;36m0\u001b[0m\u001b[0;34m)\u001b[0m\u001b[0;34m\u001b[0m\u001b[0m\n\u001b[0m\u001b[1;32m     60\u001b[0m \u001b[0mcur\u001b[0m\u001b[0;34m.\u001b[0m\u001b[0mclose\u001b[0m\u001b[0;34m(\u001b[0m\u001b[0;34m)\u001b[0m\u001b[0;34m\u001b[0m\u001b[0m\n\u001b[1;32m     61\u001b[0m \u001b[0mconn\u001b[0m\u001b[0;34m.\u001b[0m\u001b[0mclose\u001b[0m\u001b[0;34m(\u001b[0m\u001b[0;34m)\u001b[0m\u001b[0;34m\u001b[0m\u001b[0m\n",
      "\u001b[0;32m<ipython-input-7-11eea556d7d9>\u001b[0m in \u001b[0;36mgetLinks\u001b[0;34m(pageUrl, recursionLevel)\u001b[0m\n\u001b[1;32m     49\u001b[0m \u001b[0;34m\u001b[0m\u001b[0m\n\u001b[1;32m     50\u001b[0m     \u001b[0;32mfor\u001b[0m \u001b[0mlink\u001b[0m \u001b[0;32min\u001b[0m \u001b[0mbsObj\u001b[0m\u001b[0;34m.\u001b[0m\u001b[0mfindAll\u001b[0m\u001b[0;34m(\u001b[0m\u001b[0;34m\"a\"\u001b[0m\u001b[0;34m,\u001b[0m \u001b[0mhref\u001b[0m\u001b[0;34m=\u001b[0m\u001b[0mre\u001b[0m\u001b[0;34m.\u001b[0m\u001b[0mcompile\u001b[0m\u001b[0;34m(\u001b[0m\u001b[0;34m\"^(/wiki/)((?!:).)*$\"\u001b[0m\u001b[0;34m)\u001b[0m\u001b[0;34m)\u001b[0m\u001b[0;34m:\u001b[0m\u001b[0;34m\u001b[0m\u001b[0m\n\u001b[0;32m---> 51\u001b[0;31m         \u001b[0minsertLink\u001b[0m\u001b[0;34m(\u001b[0m\u001b[0mpageId\u001b[0m\u001b[0;34m,\u001b[0m \u001b[0minsertPageIfNotExists\u001b[0m\u001b[0;34m(\u001b[0m\u001b[0mlink\u001b[0m\u001b[0;34m.\u001b[0m\u001b[0mattrs\u001b[0m\u001b[0;34m[\u001b[0m\u001b[0;34m'href'\u001b[0m\u001b[0;34m]\u001b[0m\u001b[0;34m)\u001b[0m\u001b[0;34m)\u001b[0m\u001b[0;34m\u001b[0m\u001b[0m\n\u001b[0m\u001b[1;32m     52\u001b[0m         \u001b[0;32mif\u001b[0m \u001b[0;32mnot\u001b[0m \u001b[0mpageScraped\u001b[0m\u001b[0;34m(\u001b[0m\u001b[0mlink\u001b[0m\u001b[0;34m.\u001b[0m\u001b[0mattrs\u001b[0m\u001b[0;34m[\u001b[0m\u001b[0;34m'href'\u001b[0m\u001b[0;34m]\u001b[0m\u001b[0;34m)\u001b[0m\u001b[0;34m:\u001b[0m\u001b[0;34m\u001b[0m\u001b[0m\n\u001b[1;32m     53\u001b[0m             \u001b[0mnewPage\u001b[0m \u001b[0;34m=\u001b[0m \u001b[0mlink\u001b[0m\u001b[0;34m.\u001b[0m\u001b[0mattrs\u001b[0m\u001b[0;34m[\u001b[0m\u001b[0;34m'href'\u001b[0m\u001b[0;34m]\u001b[0m\u001b[0;34m\u001b[0m\u001b[0m\n",
      "\u001b[0;32m<ipython-input-7-11eea556d7d9>\u001b[0m in \u001b[0;36minsertLink\u001b[0;34m(fromPageId, toPageId)\u001b[0m\n\u001b[1;32m     30\u001b[0m \u001b[0;32mdef\u001b[0m \u001b[0minsertLink\u001b[0m\u001b[0;34m(\u001b[0m\u001b[0mfromPageId\u001b[0m\u001b[0;34m,\u001b[0m \u001b[0mtoPageId\u001b[0m\u001b[0;34m)\u001b[0m\u001b[0;34m:\u001b[0m\u001b[0;34m\u001b[0m\u001b[0m\n\u001b[1;32m     31\u001b[0m     cur.execute(\n\u001b[0;32m---> 32\u001b[0;31m         \u001b[0;34m\"SELECT * FROM links WHERE fromPageId = %s AND toPageId = %s\"\u001b[0m\u001b[0;34m,\u001b[0m \u001b[0;34m(\u001b[0m\u001b[0mint\u001b[0m\u001b[0;34m(\u001b[0m\u001b[0mfronPageId\u001b[0m\u001b[0;34m)\u001b[0m\u001b[0;34m,\u001b[0m \u001b[0mint\u001b[0m\u001b[0;34m(\u001b[0m\u001b[0mtoPageId\u001b[0m\u001b[0;34m)\u001b[0m\u001b[0;34m)\u001b[0m\u001b[0;34m\u001b[0m\u001b[0m\n\u001b[0m\u001b[1;32m     33\u001b[0m     )\n\u001b[1;32m     34\u001b[0m     \u001b[0;32mif\u001b[0m \u001b[0mcur\u001b[0m\u001b[0;34m.\u001b[0m\u001b[0mrowcount\u001b[0m \u001b[0;34m==\u001b[0m \u001b[0;36m0\u001b[0m\u001b[0;34m:\u001b[0m\u001b[0;34m\u001b[0m\u001b[0m\n",
      "\u001b[0;31mNameError\u001b[0m: name 'fronPageId' is not defined"
     ]
    }
   ],
   "source": [
    "from bs4 import BeautifulSoup\n",
    "import re\n",
    "import pymysql\n",
    "from urllib.request import urlopen\n",
    "\n",
    "conn = pymysql.connect(host='127.0.0.1', port=3306, user='root', passwd='medici#0', db='mysql', charset='utf8')\n",
    "cur = conn.cursor()\n",
    "cur.execute(\"USE wikipedia\")\n",
    "\n",
    "def pageScraped(url):\n",
    "    cur.execute(\"SELECT * FROM pages WHERE url = %s\", (url))\n",
    "    if cur.rowcount == 0:\n",
    "        return False\n",
    "    page = cur.fetchone()\n",
    "    \n",
    "    cur.execute(\"SELECT * FROM links WHERE fromPageId = %s\", (int(page[0])))\n",
    "    if cur.rowcount == 0:\n",
    "        return False\n",
    "    return True\n",
    "\n",
    "def insertPageIfNotExists(url):\n",
    "    cur.execute(\"SELECT * FROM pages WHERE url = %s\", (url))\n",
    "    if cur.rowcount == 0:\n",
    "        cur.execute(\"INSERT INTO pages (url) VALUES (%s)\", (url))\n",
    "        conn.commit()\n",
    "        return cur.lastrowid\n",
    "    else:\n",
    "        return cur.fetchone()[0]\n",
    "    \n",
    "def insertLink(fromPageId, toPageId):\n",
    "    cur.execute(\n",
    "        \"SELECT * FROM links WHERE fromPageId = %s AND toPageId = %s\", (int(fromPageId), int(toPageId))\n",
    "    )\n",
    "    if cur.rowcount == 0:\n",
    "        cur.execute(\n",
    "            \"INSERT INTO links (fromPageId, toPageId) VALUES (%s, %s)\", (int(fromPageId), int(toPageId))\n",
    "        )\n",
    "        conn.commit()\n",
    "\n",
    "def getLinks(pageUrl, recursionLevel):\n",
    "    global pages\n",
    "    \n",
    "    if recursionLevel > 4:\n",
    "        return\n",
    "    \n",
    "    pageId = insertPageIfNotExists(pageUrl)\n",
    "    html = urlopen(\"http://en.wikipedia.org\"+pageUrl)\n",
    "    bsObj = BeautifulSoup(html, \"html.parser\")\n",
    "    \n",
    "    for link in bsObj.findAll(\"a\", href=re.compile(\"^(/wiki/)((?!:).)*$\")):\n",
    "        insertLink(pageId, insertPageIfNotExists(link.attrs['href']))\n",
    "        if not pageScraped(link.attrs['href']):\n",
    "            newPage = link.attrs['href']\n",
    "            print(newPage)\n",
    "            getLinks(newPage, recursionLevel+1)\n",
    "        else:\n",
    "            print(\"Skipping: \"+str(link.attrs['href'])+\" found on \"+pageUrl)\n",
    "\n",
    "getLinks(\"/wiki/Kevin_Bacon\", 0)\n",
    "cur.close()\n",
    "conn.close()"
   ]
  },
  {
   "cell_type": "code",
   "execution_count": null,
   "metadata": {
    "collapsed": true
   },
   "outputs": [],
   "source": []
  }
 ],
 "metadata": {
  "kernelspec": {
   "display_name": "Python [default]",
   "language": "python",
   "name": "python3"
  },
  "language_info": {
   "codemirror_mode": {
    "name": "ipython",
    "version": 3
   },
   "file_extension": ".py",
   "mimetype": "text/x-python",
   "name": "python",
   "nbconvert_exporter": "python",
   "pygments_lexer": "ipython3",
   "version": "3.5.2"
  }
 },
 "nbformat": 4,
 "nbformat_minor": 1
}
