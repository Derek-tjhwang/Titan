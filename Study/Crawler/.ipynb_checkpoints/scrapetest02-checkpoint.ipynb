{
 "cells": [
  {
   "cell_type": "code",
   "execution_count": null,
   "metadata": {
    "collapsed": false
   },
   "outputs": [
    {
     "name": "stdout",
     "output_type": "stream",
     "text": [
      "/wiki/Wikipedia\n",
      "/wiki/Wikipedia:Protection_policy#semi\n",
      "/wiki/Wikipedia:Requests_for_page_protection\n",
      "/wiki/Wikipedia:Requests_for_permissions\n",
      "/wiki/Wikipedia:Requesting_copyright_permission\n",
      "/wiki/Wikipedia:User_access_levels\n",
      "/wiki/Wikipedia:Requests_for_adminship\n",
      "/wiki/Wikipedia:Requested_articles\n",
      "/wiki/Wikipedia:Recent_additions\n",
      "/wiki/Wikipedia:Shortcut\n",
      "/wiki/Wikipedia:Keyboard_shortcuts\n",
      "/wiki/Wikipedia:WikiProject_Kansas\n",
      "/wiki/File:Seal_of_Kansas.svg\n",
      "/wiki/Special:WhatLinksHere/File:Seal_of_Kansas.svg\n",
      "/wiki/Help:What_links_here\n",
      "/wiki/Wikipedia:Information_pages\n",
      "/wiki/Wikipedia:Policies_and_guidelines\n",
      "/wiki/Category:Wikipedia_procedural_policies\n",
      "/wiki/Wikipedia:List_of_policies#Procedural\n",
      "/wiki/Template:Nutshell\n",
      "/wiki/Wikipedia:Protection_policy#template\n",
      "/wiki/Wikipedia:Lists_of_protected_pages\n",
      "/wiki/Wikipedia:Protection_policy\n",
      "/wiki/Wikipedia:Perennial_proposals\n",
      "/wiki/Wikipedia:Consensus\n",
      "/wiki/Wikipedia:Conflict_of_interest\n",
      "/wiki/Wikipedia:Protection_policy#move\n",
      "/wiki/Wikipedia:WPPP\n",
      "/wiki/File:People_icon.svg\n",
      "/wiki/Special:WhatLinksHere/File:People_icon.svg\n",
      "/wiki/Anarchism\n",
      "/wiki/Wikipedia:Good_articles\n",
      "/wiki/Wikipedia_talk:Good_article_nominations\n",
      "/wiki/Wikipedia:Good_article_nominations\n"
     ]
    }
   ],
   "source": [
    "from urllib.request import urlopen\n",
    "from bs4 import BeautifulSoup\n",
    "import re\n",
    "\n",
    "pages = set()\n",
    "def getLinks(pageUrl):\n",
    "    global pages\n",
    "    html = urlopen(\"http://en.wikipedia.org.\"+pageUrl)\n",
    "    bsObj = BeautifulSoup(html, \"html.parser\")\n",
    "    try:\n",
    "        print(bsObj.h1.get_text())\n",
    "        print(bsObj.find(id =\"mw-content-text\").findAll(\"p\")[0])\n",
    "        print(bsObj.find(id=\"ca-edit\").find(\"span\").find(\"a\").attrs['href'])\n",
    "    except AttributeError:\n",
    "        print(\"This page is missing something! No worries though!\")\n",
    "    for link in bsObj.findAll(\"a\", href=re.compile(\"^(/wiki/)\")):\n",
    "        if 'href' in link.attrs:\n",
    "            if link.attrs['href'] not in pages:\n",
    "                # 새 페이지를 발견\n",
    "                newPage = link.attrs['href']\n",
    "                print(\"-------------------------------\\n\"+newPage)\n",
    "                pages.add(newPage)\n",
    "                getLinks(newPage)\n",
    "getLinks(\"\")"
   ]
  },
  {
   "cell_type": "code",
   "execution_count": null,
   "metadata": {
    "collapsed": true
   },
   "outputs": [],
   "source": []
  }
 ],
 "metadata": {
  "kernelspec": {
   "display_name": "Python [default]",
   "language": "python",
   "name": "python3"
  },
  "language_info": {
   "codemirror_mode": {
    "name": "ipython",
    "version": 3
   },
   "file_extension": ".py",
   "mimetype": "text/x-python",
   "name": "python",
   "nbconvert_exporter": "python",
   "pygments_lexer": "ipython3",
   "version": "3.5.2"
  }
 },
 "nbformat": 4,
 "nbformat_minor": 1
}
