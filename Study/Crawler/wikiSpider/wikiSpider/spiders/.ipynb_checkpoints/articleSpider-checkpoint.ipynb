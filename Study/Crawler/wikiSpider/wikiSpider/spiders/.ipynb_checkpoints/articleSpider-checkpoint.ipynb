{
 "cells": [
  {
   "cell_type": "code",
   "execution_count": null,
   "metadata": {
    "collapsed": true
   },
   "outputs": [],
   "source": [
    "from scrapy.selector import Selector\n",
    "from scrapy import Spider\n",
    "from wikiSpider.items import Article\n",
    "\n",
    "class ArticleSpider(Spider):\n",
    "    name=\"article\"\n",
    "    allowed_domains = [\"en.wikipedia.org\"]\n",
    "    start_urls = [\"http://en.wikipedia.org/wiki/Main_Page\", \"http://en.wikipedia.org/wiki/Python_%28programming_language%29\"]\n",
    "    \n",
    "    def parse(self, response):\n",
    "        item = Article()\n",
    "        title = response.xpath('//h1/text()')[0].extract()\n",
    "        print(\"Title is: \"+title)\n",
    "        item['title'] = title\n",
    "        return item"
   ]
  }
 ],
 "metadata": {
  "anaconda-cloud": {},
  "kernelspec": {
   "display_name": "Python [default]",
   "language": "python",
   "name": "python3"
  },
  "language_info": {
   "codemirror_mode": {
    "name": "ipython",
    "version": 3
   },
   "file_extension": ".py",
   "mimetype": "text/x-python",
   "name": "python",
   "nbconvert_exporter": "python",
   "pygments_lexer": "ipython3",
   "version": "3.5.2"
  }
 },
 "nbformat": 4,
 "nbformat_minor": 1
}
