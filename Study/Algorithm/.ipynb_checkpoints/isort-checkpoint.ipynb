{
 "cells": [
  {
   "cell_type": "code",
   "execution_count": 1,
   "metadata": {
    "collapsed": false
   },
   "outputs": [
    {
     "name": "stdout",
     "output_type": "stream",
     "text": [
      "[1, 2, 3, 4, 5]\n"
     ]
    }
   ],
   "source": [
    "# 쉬운 삽입 정렬\n",
    "\n",
    "# 리스트 r에서 v가 들어가야 할 위치를 돌려주는 함수\n",
    "def find_ins_idx(r, v):\n",
    "    for i in range(0, len(r)):\n",
    "        if v < r[i]:\n",
    "            return i\n",
    "        \n",
    "    return len(r)\n",
    "\n",
    "def ins_sort(a):\n",
    "    result = [] # 새 리스트를 만들어 정렬된 값을 저장\n",
    "    while a:   # 기존 리스트에 값이 남아 있는 동안 반복\n",
    "        value = a.pop(0) # 기존 리스트에서 한 개를 꺼냄\n",
    "        ins_idx = find_ins_idx(result, value) # 꺼낸 값이 들어갈 적당한 위치 찾기\n",
    "        result.insert(ins_idx, value) # 찾은 위치에 값 삽입\n",
    "    return result\n",
    "\n",
    "d = [2, 4, 5, 1, 3]\n",
    "print(ins_sort(d))"
   ]
  },
  {
   "cell_type": "code",
   "execution_count": null,
   "metadata": {
    "collapsed": true
   },
   "outputs": [],
   "source": [
    "# 일반적인 삽입 정렬\n",
    "\n",
    "def ins_sort(a):\n",
    "    n = len(a)\n",
    "    for i in range(1, n): # 1부터 n-1까지\n",
    "        key = a[i]   # i번 위치에 있는 값을 key에 저장\n",
    "        # j를 i 바로 왼쪽 위치로 저장\n",
    "        j = i - 1\n",
    "        # 리스트의 j번 위치에 있는 값과 key를 비교해 key가 삽입될 적절한 위치를 찾음\n",
    "        while j >= 0 and a[j] > key:\n",
    "            a[j + 1] = a[j]   # 삽입할 공간이 생기도록 값을 오른쪽으로 한 칸 이동\n",
    "            j -= 1\n",
    "        a[j + 1] = key  # 찾은 삽입 위치에 key를 저장\n",
    "        \n",
    "d = [2, 4, 5, 1, 3]\n",
    "ins_sort(d)\n",
    "print(d)a"
   ]
  }
 ],
 "metadata": {
  "kernelspec": {
   "display_name": "Python 3",
   "language": "python",
   "name": "python3"
  },
  "language_info": {
   "codemirror_mode": {
    "name": "ipython",
    "version": 3
   },
   "file_extension": ".py",
   "mimetype": "text/x-python",
   "name": "python",
   "nbconvert_exporter": "python",
   "pygments_lexer": "ipython3",
   "version": "3.5.1"
  }
 },
 "nbformat": 4,
 "nbformat_minor": 0
}
