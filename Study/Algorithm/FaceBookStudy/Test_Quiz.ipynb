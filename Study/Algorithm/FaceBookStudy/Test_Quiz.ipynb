{
 "cells": [
  {
   "cell_type": "code",
   "execution_count": 52,
   "metadata": {
    "collapsed": false
   },
   "outputs": [
    {
     "name": "stdout",
     "output_type": "stream",
     "text": [
      "Please Input Num : 1\n",
      "Input Number Count :  2\n"
     ]
    }
   ],
   "source": [
    "NumArr = [1,1,2,2,3,3,4,5]\n",
    "\n",
    "InputNum = int(input(\"Please Input Num : \"))\n",
    "NumCount = 0\n",
    "Work = True\n",
    "ArrMid = int(len(NumArr)/2)\n",
    "\n",
    "def search_right(m, ct):\n",
    "    if InputNum == NumArr[m+1]:\n",
    "        m += 1\n",
    "        ct += 1\n",
    "        return search_right(m, ct)\n",
    "    else:\n",
    "        return ct\n",
    "\n",
    "def search_left(m, ct):\n",
    "    if InputNum == NumArr[m-1]:\n",
    "        m -= 1\n",
    "        ct += 1\n",
    "        return search_left(m, ct)\n",
    "    else:\n",
    "        return ct\n",
    "\n",
    "while(Work):\n",
    "    if InputNum > NumArr[ArrMid]:\n",
    "        ArrMid += 1\n",
    "    elif InputNum < NumArr[ArrMid]:\n",
    "        ArrMid -= 1\n",
    "    else:\n",
    "        NumCount += 1\n",
    "        NumCount = search_right(ArrMid, NumCount)\n",
    "        NumCount = search_left(ArrMid, NumCount)\n",
    "        Work = False\n",
    "        \n",
    "print(\"Input Number Count : \", NumCount)\n",
    "\n"
   ]
  },
  {
   "cell_type": "code",
   "execution_count": null,
   "metadata": {
    "collapsed": true
   },
   "outputs": [],
   "source": []
  },
  {
   "cell_type": "code",
   "execution_count": null,
   "metadata": {
    "collapsed": true
   },
   "outputs": [],
   "source": []
  },
  {
   "cell_type": "code",
   "execution_count": null,
   "metadata": {
    "collapsed": true
   },
   "outputs": [],
   "source": []
  }
 ],
 "metadata": {
  "anaconda-cloud": {},
  "kernelspec": {
   "display_name": "Python [default]",
   "language": "python",
   "name": "python3"
  },
  "language_info": {
   "codemirror_mode": {
    "name": "ipython",
    "version": 3
   },
   "file_extension": ".py",
   "mimetype": "text/x-python",
   "name": "python",
   "nbconvert_exporter": "python",
   "pygments_lexer": "ipython3",
   "version": "3.5.2"
  }
 },
 "nbformat": 4,
 "nbformat_minor": 1
}
