{
 "cells": [
  {
   "cell_type": "code",
   "execution_count": 2,
   "metadata": {
    "collapsed": false
   },
   "outputs": [
    {
     "name": "stdout",
     "output_type": "stream",
     "text": [
      "[1, 2, 3, 4, 5]\n"
     ]
    }
   ],
   "source": [
    "# 선택 정렬1\n",
    "def find_min_idx(a):\n",
    "    n = len(a)\n",
    "    min_idx = 0\n",
    "    for i in range(1, n):\n",
    "        if a[i] < a[min_idx]:\n",
    "            min_idx = i\n",
    "    return min_idx\n",
    "\n",
    "def sel_sort(a):\n",
    "    result = []\n",
    "    while a:\n",
    "        min_idx = find_min_idx(a)\n",
    "        value = a.pop(min_idx)\n",
    "        result.append(value)\n",
    "    return result\n",
    "\n",
    "d = [2, 4, 5, 1, 3]\n",
    "print(sel_sort(d))"
   ]
  },
  {
   "cell_type": "code",
   "execution_count": 5,
   "metadata": {
    "collapsed": false
   },
   "outputs": [
    {
     "name": "stdout",
     "output_type": "stream",
     "text": [
      "[1, 2, 3, 4, 5]\n"
     ]
    }
   ],
   "source": [
    "# 선택 정렬 좀 더 효율적인 것\n",
    "\n",
    "def sel_sort(a):\n",
    "    n = len(a)\n",
    "    for i in range(0, n - 1):\n",
    "        min_idx = i\n",
    "        for j in range(i + 1, n):\n",
    "            if a[j] < a[min_idx]:\n",
    "                min_idx = j\n",
    "                \n",
    "        a[i], a[min_idx] = a[min_idx], a[i]\n",
    "            \n",
    "d = [2, 4, 5, 1, 3]\n",
    "sel_sort(d)\n",
    "print(d)"
   ]
  },
  {
   "cell_type": "code",
   "execution_count": null,
   "metadata": {
    "collapsed": true
   },
   "outputs": [],
   "source": []
  }
 ],
 "metadata": {
  "kernelspec": {
   "display_name": "Python 3",
   "language": "python",
   "name": "python3"
  },
  "language_info": {
   "codemirror_mode": {
    "name": "ipython",
    "version": 3
   },
   "file_extension": ".py",
   "mimetype": "text/x-python",
   "name": "python",
   "nbconvert_exporter": "python",
   "pygments_lexer": "ipython3",
   "version": "3.5.1"
  }
 },
 "nbformat": 4,
 "nbformat_minor": 0
}
