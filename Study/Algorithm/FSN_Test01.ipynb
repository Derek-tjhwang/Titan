{
 "cells": [
  {
   "cell_type": "code",
   "execution_count": 4,
   "metadata": {
    "collapsed": false,
    "scrolled": true
   },
   "outputs": [
    {
     "name": "stdout",
     "output_type": "stream",
     "text": [
      "[1, 2, 9, 10, 11, 34, 45, 80, 84, 99, 100]\n",
      "Found index : 1\n"
     ]
    }
   ],
   "source": [
    "def mysort(a):\n",
    "    n = len(a)\n",
    "    \n",
    "    if n <= 1:\n",
    "        return\n",
    "    \n",
    "    mid = n // 2\n",
    "    g1 = a[:mid]\n",
    "    g2 = a[mid:]\n",
    "    mysort(g1)\n",
    "    mysort(g2)\n",
    "    i1 = 0\n",
    "    i2 = 0\n",
    "    ia = 0\n",
    "    while i1 < len(g1) and i2 < len(g2):\n",
    "        if g1[i1] < g2[i2]:\n",
    "            a[ia] = g1[i1]\n",
    "            i1 += 1\n",
    "            ia += 1\n",
    "        else:\n",
    "            a[ia] = g2[i2]\n",
    "            i2 += 1\n",
    "            ia += 1\n",
    "    while i1 < len(g1):\n",
    "        a[ia] = g1[i1]\n",
    "        i1 += 1\n",
    "        ia += 1\n",
    "    \n",
    "    while i2 < len(g2):\n",
    "        a[ia] = g2[i2]\n",
    "        i2 += 1\n",
    "        ia += 1\n",
    "\n",
    "\n",
    "def mybsearch(a, x):\n",
    "    start = 0\n",
    "    end = len(a) -1\n",
    "    \n",
    "    while start <= end:\n",
    "        mid = (start + end) // 2\n",
    "        if x == a[mid]:\n",
    "            return mid\n",
    "        elif x > a[mid]:\n",
    "            start = mid + 1\n",
    "        else:\n",
    "            end = mid - 1\n",
    "            \n",
    "    return -1\n",
    "\n",
    "d = [ 34, 1, 9, 2, 10, 11, 45, 100, 80 , 84 , 99 ]\n",
    "mysort(d)\n",
    "print(d)\n",
    "print( \"Found index : \" + str(mybsearch( d, 2)));\n"
   ]
  },
  {
   "cell_type": "code",
   "execution_count": 19,
   "metadata": {
    "collapsed": false
   },
   "outputs": [
    {
     "name": "stdout",
     "output_type": "stream",
     "text": [
      "Count of 8 = 4000\n"
     ]
    }
   ],
   "source": [
    "def count8(a):\n",
    "    cnt8 = 0\n",
    "    for i in range(1, a):\n",
    "        for n in str(i):\n",
    "            if n == '8':\n",
    "                cnt8 += 1\n",
    "    return cnt8\n",
    "    \n",
    "cnt = count8(10000)\n",
    "print(\"Count of 8 = \" + str(cnt))"
   ]
  },
  {
   "cell_type": "code",
   "execution_count": null,
   "metadata": {
    "collapsed": true
   },
   "outputs": [],
   "source": []
  }
 ],
 "metadata": {
  "kernelspec": {
   "display_name": "Python [default]",
   "language": "python",
   "name": "python3"
  },
  "language_info": {
   "codemirror_mode": {
    "name": "ipython",
    "version": 3
   },
   "file_extension": ".py",
   "mimetype": "text/x-python",
   "name": "python",
   "nbconvert_exporter": "python",
   "pygments_lexer": "ipython3",
   "version": "3.5.2"
  }
 },
 "nbformat": 4,
 "nbformat_minor": 0
}
