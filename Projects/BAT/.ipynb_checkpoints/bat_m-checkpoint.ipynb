{
 "cells": [
  {
   "cell_type": "code",
   "execution_count": 7,
   "metadata": {
    "collapsed": false
   },
   "outputs": [
    {
     "name": "stdout",
     "output_type": "stream",
     "text": [
      "{'result': 'error', 'errorMessage': 'V2 API signature is not correct', 'errorCode': '123'}\n"
     ]
    }
   ],
   "source": [
    "import simplejson as json\n",
    "import time\n",
    "import base64\n",
    "import hashlib\n",
    "import httplib2\n",
    "import hmac\n",
    "\n",
    "ACCESS_TOKEN = '422077c1-f498-417e-9f3a-d91685769e59'\n",
    "SECRET_KEY = '8d51556f-47af-4384-a813-4bc99a9fc696'\n",
    "\n",
    "\n",
    "URL = 'https://api.coinone.co.kr/v2/account/balance/'\n",
    "PAYLOAD = {\n",
    "    \"access_token\": ACCESS_TOKEN,\n",
    "}\n",
    "\n",
    "def get_encoded_payload(payload):\n",
    "    payload[u'nonce'] = int(time.time()*1000)\n",
    "    \n",
    "    dumped_json = json.dumps(payload)\n",
    "    encoded_json = base64.b64encode(dumped_json.encode())\n",
    "    return encoded_json\n",
    "\n",
    "def get_signature(encoded_payload, secret_key):\n",
    "    signature = hmac.new(str(secret_key).upper().encode(), str(encoded_payload).encode(), hashlib.sha512);\n",
    "    return signature.hexdigest()\n",
    "\n",
    "def get_response(url, payload):\n",
    "    encoded_payload = get_encoded_payload(payload)\n",
    "    headers = {\n",
    "        'Content-type': 'application/json',\n",
    "        'X-COINONE-PAYLOAD': encoded_payload,\n",
    "        'X-COINONE-SIGNATURE': get_signature(encoded_payload, SECRET_KEY)\n",
    "    }\n",
    "    http = httplib2.Http()\n",
    "    response, content = http.request(URL, 'POST', headers=headers, body=encoded_payload)\n",
    "    return content\n",
    "\n",
    "def get_result():\n",
    "    content = get_response(URL, PAYLOAD)\n",
    "    content = json.loads(content)\n",
    "\n",
    "    return content\n",
    "\n",
    "print(get_result())"
   ]
  },
  {
   "cell_type": "code",
   "execution_count": null,
   "metadata": {
    "collapsed": true
   },
   "outputs": [],
   "source": []
  },
  {
   "cell_type": "code",
   "execution_count": null,
   "metadata": {
    "collapsed": true
   },
   "outputs": [],
   "source": []
  }
 ],
 "metadata": {
  "anaconda-cloud": {},
  "celltoolbar": "Edit Metadata",
  "kernelspec": {
   "display_name": "Python [default]",
   "language": "python",
   "name": "python3"
  },
  "language_info": {
   "codemirror_mode": {
    "name": "ipython",
    "version": 3
   },
   "file_extension": ".py",
   "mimetype": "text/x-python",
   "name": "python",
   "nbconvert_exporter": "python",
   "pygments_lexer": "ipython3",
   "version": "3.5.2"
  }
 },
 "nbformat": 4,
 "nbformat_minor": 1
}
