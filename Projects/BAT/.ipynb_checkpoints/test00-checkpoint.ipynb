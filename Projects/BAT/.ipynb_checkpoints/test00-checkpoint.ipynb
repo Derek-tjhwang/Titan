{
 "cells": [
  {
   "cell_type": "code",
   "execution_count": null,
   "metadata": {
    "collapsed": true
   },
   "outputs": [],
   "source": [
    "import simplejson as json\n",
    "import time\n",
    "import base64\n",
    "\n",
    "ACCESS_TOKEN = '422077c1-f498-417e-9f3a-d91685769e59'\n",
    "PAYLOAD = {\n",
    "    \"access_token\": ACCESS_TOKEN,\n",
    "}\n",
    "\n",
    "if __name__ == \"__main__\":\n",
    "    \n",
    "    payload['nonce'] = int(time.time()*1000)\n",
    "\n",
    "    dumped_json = json.dumps(payload)\n",
    "    encoded_json = base64.b64encode(dumped_json)\n"
   ]
  }
 ],
 "metadata": {
  "kernelspec": {
   "display_name": "Python [default]",
   "language": "python",
   "name": "python3"
  },
  "language_info": {
   "codemirror_mode": {
    "name": "ipython",
    "version": 3
   },
   "file_extension": ".py",
   "mimetype": "text/x-python",
   "name": "python",
   "nbconvert_exporter": "python",
   "pygments_lexer": "ipython3",
   "version": "3.5.2"
  }
 },
 "nbformat": 4,
 "nbformat_minor": 1
}
